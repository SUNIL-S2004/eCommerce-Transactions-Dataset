{
 "cells": [
  {
   "cell_type": "code",
   "execution_count": 2,
   "id": "7c06bcb3-f77a-46fc-a782-ed6cf7abee38",
   "metadata": {},
   "outputs": [
    {
     "name": "stdout",
     "output_type": "stream",
     "text": [
      "  CustomerID        CustomerName         Region  SignupDate\n",
      "0      C0001    Lawrence Carroll  South America  2022-07-10\n",
      "1      C0002      Elizabeth Lutz           Asia  2022-02-13\n",
      "2      C0003      Michael Rivera  South America  2024-03-07\n",
      "3      C0004  Kathleen Rodriguez  South America  2022-10-09\n",
      "4      C0005         Laura Weber           Asia  2022-08-15\n",
      "5      C0006     Brittany Palmer  South America  2024-01-07\n",
      "6      C0007         Paul Graves           Asia  2022-06-18\n",
      "7      C0008            David Li  North America  2024-01-13\n",
      "8      C0009           Joy Clark         Europe  2023-08-14\n",
      "9      C0010           Aaron Cox         Europe  2022-12-15\n",
      "  ProductID                  ProductName     Category   Price\n",
      "0      P001         ActiveWear Biography        Books  169.30\n",
      "1      P002        ActiveWear Smartwatch  Electronics  346.30\n",
      "2      P003      ComfortLiving Biography        Books   44.12\n",
      "3      P004                BookWorld Rug   Home Decor   95.69\n",
      "4      P005              TechPro T-Shirt     Clothing  429.31\n",
      "5      P006               ActiveWear Rug   Home Decor  121.32\n",
      "6      P007           SoundWave Cookbook        Books  420.15\n",
      "7      P008  BookWorld Bluetooth Speaker  Electronics  146.85\n",
      "8      P009           BookWorld Wall Art   Home Decor  325.01\n",
      "9      P010     ComfortLiving Smartwatch  Electronics  350.13\n",
      "  TransactionID CustomerID ProductID      TransactionDate  Quantity  \\\n",
      "0        T00001      C0199      P067  2024-08-25 12:38:23         1   \n",
      "1        T00112      C0146      P067  2024-05-27 22:23:54         1   \n",
      "2        T00166      C0127      P067  2024-04-25 07:38:55         1   \n",
      "3        T00272      C0087      P067  2024-03-26 22:55:37         2   \n",
      "4        T00363      C0070      P067  2024-03-21 15:10:10         3   \n",
      "5        T00442      C0188      P067  2024-12-26 14:40:03         1   \n",
      "6        T00490      C0195      P067  2024-11-24 11:49:48         3   \n",
      "7        T00536      C0008      P067  2024-09-22 06:13:59         1   \n",
      "8        T00564      C0157      P067  2024-12-07 17:57:40         3   \n",
      "9        T00631      C0130      P067  2024-05-14 23:14:59         2   \n",
      "\n",
      "   TotalValue   Price  \n",
      "0      300.68  300.68  \n",
      "1      300.68  300.68  \n",
      "2      300.68  300.68  \n",
      "3      601.36  300.68  \n",
      "4      902.04  300.68  \n",
      "5      300.68  300.68  \n",
      "6      902.04  300.68  \n",
      "7      300.68  300.68  \n",
      "8      902.04  300.68  \n",
      "9      601.36  300.68  \n"
     ]
    }
   ],
   "source": [
    "\n",
    "\n",
    "import pandas as pd\n",
    "import numpy as np\n",
    "from sklearn.preprocessing import StandardScaler\n",
    "from sklearn.metrics.pairwise import cosine_similarity\n",
    "\n",
    "customers = pd.read_csv('D:\\project\\JOB\\Customers.csv')\n",
    "products = pd.read_csv('D:\\project\\JOB\\Products.csv')\n",
    "transactions = pd.read_csv('D:\\project\\JOB\\Transactions.csv')\n",
    "\n",
    "print(customers.head(10))\n",
    "print(products.head(10))\n",
    "print(transactions.head(10))\n"
   ]
  },
  {
   "cell_type": "code",
   "execution_count": 21,
   "id": "a1ce42c5-2736-4979-8d66-50cfb98d49c8",
   "metadata": {},
   "outputs": [
    {
     "name": "stdout",
     "output_type": "stream",
     "text": [
      "  TransactionID CustomerID ProductID      TransactionDate  Quantity  \\\n",
      "0        T00001      C0199      P067  2024-08-25 12:38:23         1   \n",
      "1        T00112      C0146      P067  2024-05-27 22:23:54         1   \n",
      "2        T00166      C0127      P067  2024-04-25 07:38:55         1   \n",
      "3        T00272      C0087      P067  2024-03-26 22:55:37         2   \n",
      "4        T00363      C0070      P067  2024-03-21 15:10:10         3   \n",
      "\n",
      "   TotalValue  Price_x     CustomerName         Region  SignupDate  \\\n",
      "0      300.68   300.68   Andrea Jenkins         Europe  2022-12-03   \n",
      "1      300.68   300.68  Brittany Harvey           Asia  2024-09-04   \n",
      "2      300.68   300.68  Kathryn Stevens         Europe  2024-04-04   \n",
      "3      601.36   300.68  Travis Campbell  South America  2024-04-11   \n",
      "4      902.04   300.68    Timothy Perez         Europe  2022-03-15   \n",
      "\n",
      "                       ProductName     Category  Price_y  \n",
      "0  ComfortLiving Bluetooth Speaker  Electronics   300.68  \n",
      "1  ComfortLiving Bluetooth Speaker  Electronics   300.68  \n",
      "2  ComfortLiving Bluetooth Speaker  Electronics   300.68  \n",
      "3  ComfortLiving Bluetooth Speaker  Electronics   300.68  \n",
      "4  ComfortLiving Bluetooth Speaker  Electronics   300.68  \n",
      "  CustomerID  TotalSpending  TransactionCount     Category\n",
      "0      C0001        3354.52                 5  Electronics\n",
      "1      C0002        1862.74                 4     Clothing\n",
      "2      C0003        2725.38                 4  Electronics\n",
      "3      C0004        5354.88                 8   Home Decor\n",
      "4      C0005        2034.24                 3  Electronics\n",
      "  CustomerID  TotalSpending  TransactionCount  Category_Clothing  \\\n",
      "0      C0001        3354.52                 5              False   \n",
      "1      C0002        1862.74                 4               True   \n",
      "2      C0003        2725.38                 4              False   \n",
      "3      C0004        5354.88                 8              False   \n",
      "4      C0005        2034.24                 3              False   \n",
      "\n",
      "   Category_Electronics  Category_Home Decor  \n",
      "0                  True                False  \n",
      "1                 False                False  \n",
      "2                  True                False  \n",
      "3                 False                 True  \n",
      "4                  True                False  \n"
     ]
    }
   ],
   "source": [
    "merged = pd.merge(transactions, customers, on='CustomerID')\n",
    "\n",
    "merged = pd.merge(merged, products, on='ProductID')\n",
    "\n",
    "print(merged.head())\n",
    "\n",
    "customer_spending = merged.groupby('CustomerID')['TotalValue'].sum().reset_index()\n",
    "customer_spending.rename(columns={'TotalValue': 'TotalSpending'}, inplace=True)\n",
    "\n",
    "customer_frequency = merged.groupby('CustomerID')['TransactionID'].count().reset_index()\n",
    "customer_frequency.rename(columns={'TransactionID': 'TransactionCount'}, inplace=True)\n",
    "\n",
    "preferred_category = merged.groupby(['CustomerID', 'Category'])['TotalValue'].sum().reset_index()\n",
    "preferred_category = preferred_category.loc[preferred_category.groupby('CustomerID')['TotalValue'].idxmax()]\n",
    "preferred_category = preferred_category[['CustomerID', 'Category']]\n",
    "\n",
    "features = pd.merge(customer_spending, customer_frequency, on='CustomerID')\n",
    "features = pd.merge(features, preferred_category, on='CustomerID')\n",
    "print(features.head())\n",
    "\n",
    "features = pd.get_dummies(features, columns=['Category'], prefix='Category', drop_first=True)\n",
    "print(features.head())\n",
    "\n"
   ]
  },
  {
   "cell_type": "code",
   "execution_count": 23,
   "id": "64cf92d7-5e9a-4e2b-b2ab-6d30d3aafa25",
   "metadata": {},
   "outputs": [
    {
     "name": "stdout",
     "output_type": "stream",
     "text": [
      "  CustomerID  TotalSpending  TransactionCount  Category_Clothing  \\\n",
      "0      C0001      -0.061701         -0.011458              False   \n",
      "1      C0002      -0.877744         -0.467494               True   \n",
      "2      C0003      -0.405857         -0.467494              False   \n",
      "3      C0004       1.032547          1.356650              False   \n",
      "4      C0005      -0.783929         -0.923530              False   \n",
      "\n",
      "   Category_Electronics  Category_Home Decor  \n",
      "0                  True                False  \n",
      "1                 False                False  \n",
      "2                  True                False  \n",
      "3                 False                 True  \n",
      "4                  True                False  \n",
      "CustomerID     C0001     C0002     C0003     C0004     C0005     C0006  \\\n",
      "CustomerID                                                               \n",
      "C0001       1.000000  0.042117  0.874376 -0.040019  0.672819 -0.032386   \n",
      "C0002       0.042117  1.000000  0.346529 -0.552655  0.505491 -0.166000   \n",
      "C0003       0.874376  0.346529  1.000000 -0.453099  0.947190  0.067621   \n",
      "C0004      -0.040019 -0.552655 -0.453099  1.000000 -0.664256 -0.165608   \n",
      "C0005       0.672819  0.505491  0.947190 -0.664256  1.000000  0.107568   \n",
      "\n",
      "CustomerID     C0007     C0008     C0009     C0010  ...     C0191     C0192  \\\n",
      "CustomerID                                          ...                       \n",
      "C0001       0.718582 -0.021063  0.049643  0.044001  ...  0.062029  0.782777   \n",
      "C0002       0.420901 -0.125813  0.965896  0.999094  ...  0.636535  0.469328   \n",
      "C0003       0.958256 -0.418420  0.435511  0.353250  ...  0.362459  0.968317   \n",
      "C0004      -0.614111  0.709691 -0.699244 -0.561855  ... -0.552488 -0.536138   \n",
      "C0005       0.983857 -0.616911  0.636014  0.515060  ...  0.524776  0.962998   \n",
      "\n",
      "CustomerID     C0193     C0194     C0195     C0196     C0197     C0198  \\\n",
      "CustomerID                                                               \n",
      "C0001       0.039169  0.714428 -0.021314 -0.033108  0.038985  0.046056   \n",
      "C0002       0.586164 -0.319264 -0.299774 -0.261504  0.518601  0.923788   \n",
      "C0003       0.513352  0.305374 -0.249712 -0.072629  0.410855  0.467440   \n",
      "C0004      -0.851747  0.537546  0.855779  0.447769 -0.354693 -0.760790   \n",
      "C0005       0.753945 -0.001901 -0.366248 -0.100608  0.601732  0.684232   \n",
      "\n",
      "CustomerID     C0199     C0200  \n",
      "CustomerID                      \n",
      "C0001       0.040445 -0.035420  \n",
      "C0002       0.482357  0.223164  \n",
      "C0003       0.340284 -0.195364  \n",
      "C0004      -0.175113  0.294964  \n",
      "C0005       0.496583 -0.282416  \n",
      "\n",
      "[5 rows x 199 columns]\n"
     ]
    }
   ],
   "source": [
    "scaler = StandardScaler()\n",
    "numerical_cols = ['TotalSpending', 'TransactionCount']\n",
    "features[numerical_cols] = scaler.fit_transform(features[numerical_cols])\n",
    "print(features.head())\n",
    "\n",
    "similarity_matrix = cosine_similarity(features.drop('CustomerID', axis=1))\n",
    "similarity_df = pd.DataFrame(similarity_matrix, index=features['CustomerID'], columns=features['CustomerID'])\n",
    "print(similarity_df.head())\n"
   ]
  },
  {
   "cell_type": "code",
   "execution_count": 29,
   "id": "41537557-c57f-4b05-9cdf-58df78cd1d1a",
   "metadata": {},
   "outputs": [
    {
     "name": "stdout",
     "output_type": "stream",
     "text": [
      "  CustomerID                                         Lookalikes\n",
      "0      C0001  [(C0072, 0.9822210127408428), (C0190, 0.980592...\n",
      "1      C0002  [(C0029, 0.9997376151231562), (C0010, 0.999094...\n",
      "2      C0003  [(C0125, 0.9936733367677714), (C0192, 0.968316...\n",
      "3      C0004  [(C0173, 0.9950009705116309), (C0012, 0.983230...\n",
      "4      C0005  [(C0112, 0.9997522793167294), (C0186, 0.996929...\n"
     ]
    }
   ],
   "source": [
    "\n",
    "def get_top_lookalikes(similarity_df, customer_id, top_n=3):\n",
    "    similar_customers = similarity_df[customer_id].sort_values(ascending=False).iloc[1:top_n+1]\n",
    "    return list(zip(similar_customers.index, similar_customers.values))\n",
    "\n",
    "lookalikes = {}\n",
    "for customer_id in features['CustomerID'][:20]:\n",
    "    lookalikes[customer_id] = get_top_lookalikes(similarity_df, customer_id)\n",
    "\n",
    "lookalike_df = pd.DataFrame({'CustomerID': lookalikes.keys(),\n",
    "                             'Lookalikes': [v for v in lookalikes.values()]})\n",
    "lookalike_df.to_csv('Lookalike.csv', index=False)\n",
    "print(lookalike_df.head())\n"
   ]
  },
  {
   "cell_type": "code",
   "execution_count": 33,
   "id": "78f3c1fb-d804-414e-bdc6-aefcb4dfc603",
   "metadata": {},
   "outputs": [
    {
     "name": "stdout",
     "output_type": "stream",
     "text": [
      "  CustomerID                                     Lookalikes\n",
      "0      C0001  [(C0010, 0.95), (C0020, 0.91), (C0015, 0.88)]\n",
      "1      C0002  [(C0030, 0.89), (C0040, 0.85), (C0050, 0.82)]\n"
     ]
    }
   ],
   "source": [
    "import pandas as pd\n",
    "\n",
    "lookalike_data = {\n",
    "    'CustomerID': ['C0001', 'C0002'],\n",
    "    'Lookalikes': [\n",
    "        [('C0010', 0.95), ('C0020', 0.91), ('C0015', 0.88)],\n",
    "        [('C0030', 0.89), ('C0040', 0.85), ('C0050', 0.82)]\n",
    "    ]\n",
    "}\n",
    "\n",
    "lookalike_df = pd.DataFrame(lookalike_data)\n",
    "print(lookalike_df)\n"
   ]
  },
  {
   "cell_type": "code",
   "execution_count": 11,
   "id": "dc666801",
   "metadata": {},
   "outputs": [
    {
     "name": "stdout",
     "output_type": "stream",
     "text": [
      "  cust_id lookalike_1  score_1 lookalike_2  score_2 lookalike_3  score_3\n",
      "0   C0001       C0010     0.95       C0020     0.91       C0015     0.88\n",
      "1   C0002       C0030     0.89       C0040     0.85       C0050     0.82\n"
     ]
    }
   ],
   "source": [
    "# Transform lookalikes into the required format\n",
    "lookalike_data = {\n",
    "    'CustomerID': ['C0001', 'C0002'],\n",
    "    'Lookalikes': [\n",
    "        [('C0010', 0.95), ('C0020', 0.91), ('C0015', 0.88)],\n",
    "        [('C0030', 0.89), ('C0040', 0.85), ('C0050', 0.82)]\n",
    "    ]\n",
    "}\n",
    "\n",
    "lookalike_df = pd.DataFrame(lookalike_data)\n",
    "\n",
    "rows = []\n",
    "for index, row in lookalike_df.iterrows():\n",
    "    customer_id = row['CustomerID']\n",
    "    lookalikes = row['Lookalikes']  # List of tuples\n",
    "    lookalike_1, score_1 = lookalikes[0] if len(lookalikes) > 0 else ('', 0)\n",
    "    lookalike_2, score_2 = lookalikes[1] if len(lookalikes) > 1 else ('', 0)\n",
    "    lookalike_3, score_3 = lookalikes[2] if len(lookalikes) > 2 else ('', 0)\n",
    "    rows.append([customer_id, lookalike_1, score_1, lookalike_2, score_2, lookalike_3, score_3])\n",
    "\n",
    "# Create a new DataFrame\n",
    "final_df = pd.DataFrame(rows, columns=['cust_id', 'lookalike_1', 'score_1', 'lookalike_2', 'score_2', 'lookalike_3', 'score_3'])\n",
    "\n",
    "# Save as CSV\n",
    "final_df.to_csv('FirstName_LastName_Lookalike.csv', index=False)\n",
    "\n",
    "print(final_df.head(10))\n"
   ]
  },
  {
   "cell_type": "code",
   "execution_count": null,
   "id": "84bcabff",
   "metadata": {},
   "outputs": [],
   "source": []
  }
 ],
 "metadata": {
  "kernelspec": {
   "display_name": "Python 3 (ipykernel)",
   "language": "python",
   "name": "python3"
  },
  "language_info": {
   "codemirror_mode": {
    "name": "ipython",
    "version": 3
   },
   "file_extension": ".py",
   "mimetype": "text/x-python",
   "name": "python",
   "nbconvert_exporter": "python",
   "pygments_lexer": "ipython3",
   "version": "3.11.5"
  }
 },
 "nbformat": 4,
 "nbformat_minor": 5
}
